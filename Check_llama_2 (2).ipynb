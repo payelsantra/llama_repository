{
 "cells": [
  {
   "cell_type": "code",
   "execution_count": 1,
   "metadata": {
    "execution": {
     "iopub.execute_input": "2023-11-08T12:41:59.494323Z",
     "iopub.status.busy": "2023-11-08T12:41:59.493253Z",
     "iopub.status.idle": "2023-11-08T12:41:59.498050Z",
     "shell.execute_reply": "2023-11-08T12:41:59.497331Z",
     "shell.execute_reply.started": "2023-11-08T12:41:59.494290Z"
    }
   },
   "outputs": [],
   "source": [
    "import pandas as pd\n",
    "from tqdm import tqdm\n",
    "import pickle as pkl"
   ]
  },
  {
   "cell_type": "code",
   "execution_count": null,
   "metadata": {
    "execution": {
     "iopub.execute_input": "2023-11-22T17:29:22.299658Z",
     "iopub.status.busy": "2023-11-22T17:29:22.298829Z",
     "iopub.status.idle": "2023-11-22T17:29:27.253119Z",
     "shell.execute_reply": "2023-11-22T17:29:27.252397Z",
     "shell.execute_reply.started": "2023-11-22T17:29:22.299627Z"
    }
   },
   "outputs": [],
   "source": [
    "!pip install git+https://github.com/huggingface/transformers"
   ]
  },
  {
   "cell_type": "code",
   "execution_count": null,
   "metadata": {
    "execution": {
     "iopub.execute_input": "2023-11-09T12:15:18.485499Z",
     "iopub.status.busy": "2023-11-09T12:15:18.485299Z",
     "iopub.status.idle": "2023-11-09T12:15:21.058986Z",
     "shell.execute_reply": "2023-11-09T12:15:21.058268Z",
     "shell.execute_reply.started": "2023-11-09T12:15:18.485480Z"
    }
   },
   "outputs": [],
   "source": [
    "!pip install datasets loralib sentencepiece"
   ]
  },
  {
   "cell_type": "code",
   "execution_count": null,
   "metadata": {
    "execution": {
     "iopub.execute_input": "2023-11-09T12:15:21.061279Z",
     "iopub.status.busy": "2023-11-09T12:15:21.060857Z",
     "iopub.status.idle": "2023-11-09T12:15:23.688777Z",
     "shell.execute_reply": "2023-11-09T12:15:23.687972Z",
     "shell.execute_reply.started": "2023-11-09T12:15:21.061245Z"
    }
   },
   "outputs": [],
   "source": [
    "!pip install bitsandbytes accelerate xformers einops"
   ]
  },
  {
   "cell_type": "code",
   "execution_count": 4,
   "metadata": {
    "execution": {
     "iopub.execute_input": "2023-11-09T12:15:23.690595Z",
     "iopub.status.busy": "2023-11-09T12:15:23.690389Z",
     "iopub.status.idle": "2023-11-09T12:15:25.886138Z",
     "shell.execute_reply": "2023-11-09T12:15:25.884416Z",
     "shell.execute_reply.started": "2023-11-09T12:15:23.690576Z"
    }
   },
   "outputs": [],
   "source": [
    "from torch.fx import symbolic_trace"
   ]
  },
  {
   "cell_type": "code",
   "execution_count": null,
   "metadata": {
    "execution": {
     "iopub.execute_input": "2023-11-09T12:17:58.598389Z",
     "iopub.status.busy": "2023-11-09T12:17:58.597762Z",
     "iopub.status.idle": "2023-11-09T12:18:43.316163Z",
     "shell.execute_reply": "2023-11-09T12:18:43.315385Z",
     "shell.execute_reply.started": "2023-11-09T12:17:58.598367Z"
    }
   },
   "outputs": [],
   "source": [
    "from transformers import AutoTokenizer, AutoModel, LlamaModel, LlamaTokenizer,LlamaForCausalLM\n",
    "import transformers\n",
    "import torch\n",
    "model = \"meta-llama/Llama-2-7b-chat-hf\"\n",
    "hf_auth = '********************************' # Huggingface Authorization token is required which can be accessed upon request from this link https://huggingface.co/meta-llama/Llama-2-13b-chat-hf\n",
    "tokenizer = AutoTokenizer.from_pretrained(\"meta-llama/Llama-2-7b-chat-hf\", use_fast=True, use_auth_token=hf_auth)\n",
    "model = LlamaForCausalLM.from_pretrained(\"meta-llama/Llama-2-7b-chat-hf\", use_auth_token=hf_auth)\n",
    "pipeline = transformers.pipeline(\n",
    "    \"text-generation\",\n",
    "    model=model,\n",
    "    token=hf_auth,\n",
    "    torch_dtype=torch.float16,\n",
    "    device_map=\"auto\",\n",
    "    tokenizer=tokenizer\n",
    ")"
   ]
  },
  {
   "cell_type": "code",
   "execution_count": 7,
   "metadata": {
    "execution": {
     "iopub.execute_input": "2023-11-09T12:16:24.950090Z",
     "iopub.status.busy": "2023-11-09T12:16:24.949936Z",
     "iopub.status.idle": "2023-11-09T12:16:25.016068Z",
     "shell.execute_reply": "2023-11-09T12:16:25.015488Z",
     "shell.execute_reply.started": "2023-11-09T12:16:24.950090Z"
    }
   },
   "outputs": [],
   "source": [
    "#input your data in csv format\n",
    "test_data=pd.read_csv(\"/notebooks/data/fever/3_class/1_shot.csv\")"
   ]
  },
  {
   "cell_type": "code",
   "execution_count": null,
   "metadata": {
    "execution": {
     "iopub.execute_input": "2023-11-09T14:16:32.884508Z",
     "iopub.status.busy": "2023-11-09T14:16:32.883663Z",
     "iopub.status.idle": "2023-11-09T14:16:32.895064Z",
     "shell.execute_reply": "2023-11-09T14:16:32.894644Z",
     "shell.execute_reply.started": "2023-11-09T14:16:32.884478Z"
    }
   },
   "outputs": [],
   "source": [
    "zip_new_test=dict(zip(list(test_data['cl_id']),list(test_data['claim'])))\n",
    "zip_test_label=dict(zip(list(test_data['cl_id']),list(test_data['label'])))"
   ]
  },
  {
   "cell_type": "code",
   "execution_count": 46,
   "metadata": {
    "execution": {
     "iopub.execute_input": "2023-11-09T13:21:43.805949Z",
     "iopub.status.busy": "2023-11-09T13:21:43.805155Z",
     "iopub.status.idle": "2023-11-09T13:21:43.843851Z",
     "shell.execute_reply": "2023-11-09T13:21:43.843204Z",
     "shell.execute_reply.started": "2023-11-09T13:21:43.805911Z"
    }
   },
   "outputs": [
    {
     "name": "stderr",
     "output_type": "stream",
     "text": [
      "100%|██████████| 19755/19755 [00:00<00:00, 732826.34it/s]\n"
     ]
    }
   ],
   "source": [
    "# from transformers import pipeline, set_seed\n",
    "set_seed(42)\n",
    "zip_new_test_temp={}\n",
    "for i,j in enumerate(tqdm(zip_new_test)):\n",
    "    claim=zip_new_test[j]\n",
    "    part1='Evaluate the validity of the claim'\n",
    "    part2=\"'{}'\".format(claim)\n",
    "    part3='by determining if it is true or false or lack of information for confirmation. Answer:'\n",
    "    wh_sen=part1+' '+part2+' '+part3\n",
    "    zip_new_test_temp[j]=wh_sen"
   ]
  },
  {
   "cell_type": "code",
   "execution_count": null,
   "metadata": {
    "execution": {
     "iopub.execute_input": "2023-11-09T14:23:09.950287Z",
     "iopub.status.busy": "2023-11-09T14:23:09.950025Z"
    },
    "scrolled": true
   },
   "outputs": [],
   "source": [
    "set_seed(42)\n",
    "sequences = pipeline(\n",
    "    '''Evaluate the validity of the claim 'A polynomial is a convoluted code.' by determining if it is true or false or not enough information (NEI). Answer:''',\n",
    "    # '''Fact verification involves evaluating statements based on available evidence to determine their truth, falsity, or insufficient supporting information.Now please evaluate the validity of the claim by determining if it is true or false or does it lack of sufficient information for confirmation. \"Input\": Sora (Kingdom Hearts) and Donald Duck went on an adventure.  ''',\n",
    "    # '''Generate a valid label from the collection of these given labels i.e. ['True', 'False', 'NEI'] for the given claim 'Michelin Guides are a series of restaurant guide books.'. Answer:''',\n",
    "    do_sample=True,\n",
    "    top_k=10,\n",
    "    num_return_sequences=1,\n",
    "    eos_token_id=tokenizer.eos_token_id,\n",
    "    max_length=100, temperature=0.1\n",
    ")\n",
    "for seq in sequences:\n",
    "    print(f\"Result: {seq['generated_text']}\")"
   ]
  },
  {
   "cell_type": "code",
   "execution_count": 45,
   "metadata": {
    "execution": {
     "iopub.execute_input": "2023-11-09T13:19:55.590121Z",
     "iopub.status.busy": "2023-11-09T13:19:55.589855Z",
     "iopub.status.idle": "2023-11-09T13:19:55.594636Z",
     "shell.execute_reply": "2023-11-09T13:19:55.593902Z",
     "shell.execute_reply.started": "2023-11-09T13:19:55.590101Z"
    }
   },
   "outputs": [
    {
     "data": {
      "text/plain": [
       "[{'generated_text': \"Evaluate the validity of the claim 'Lizzy Caplan reviewed the television show True Blood.\\n10' by determining if it is true or false or lack of information for confirmation. Answer: True\"}]"
      ]
     },
     "execution_count": 45,
     "metadata": {},
     "output_type": "execute_result"
    }
   ],
   "source": [
    "sequences"
   ]
  },
  {
   "cell_type": "code",
   "execution_count": null,
   "metadata": {},
   "outputs": [],
   "source": []
  }
 ],
 "metadata": {
  "kernelspec": {
   "display_name": "Python 3 (ipykernel)",
   "language": "python",
   "name": "python3"
  },
  "language_info": {
   "codemirror_mode": {
    "name": "ipython",
    "version": 3
   },
   "file_extension": ".py",
   "mimetype": "text/x-python",
   "name": "python",
   "nbconvert_exporter": "python",
   "pygments_lexer": "ipython3",
   "version": "3.9.16"
  }
 },
 "nbformat": 4,
 "nbformat_minor": 4
}
